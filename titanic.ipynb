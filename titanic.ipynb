{
 "cells": [
  {
   "cell_type": "code",
   "id": "initial_id",
   "metadata": {
    "ExecuteTime": {
     "end_time": "2025-05-12T18:20:47.090846Z",
     "start_time": "2025-05-12T18:20:47.088439Z"
    }
   },
   "source": [
    "import pandas as pd\n",
    "import numpy as np\n",
    "import matplotlib.pyplot as plt\n",
    "import seaborn as sns"
   ],
   "outputs": [],
   "execution_count": 21
  },
  {
   "cell_type": "code",
   "id": "7cea223565dde32d",
   "metadata": {
    "ExecuteTime": {
     "end_time": "2025-05-12T18:19:06.734170Z",
     "start_time": "2025-05-12T18:19:06.700850Z"
    }
   },
   "source": [
    "# Загрузка данных из датасета\n",
    "df = pd.read_csv('Titanic.csv')\n",
    "df.head(5)"
   ],
   "outputs": [
    {
     "data": {
      "text/plain": [
       "   PassengerId  Survived  Pclass  \\\n",
       "0            1         0       3   \n",
       "1            2         1       1   \n",
       "2            3         1       3   \n",
       "3            4         1       1   \n",
       "4            5         0       3   \n",
       "\n",
       "                                                Name     Sex   Age  SibSp  \\\n",
       "0                            Braund, Mr. Owen Harris    male  22.0      1   \n",
       "1  Cumings, Mrs. John Bradley (Florence Briggs Th...  female  38.0      1   \n",
       "2                             Heikkinen, Miss. Laina  female  26.0      0   \n",
       "3       Futrelle, Mrs. Jacques Heath (Lily May Peel)  female  35.0      1   \n",
       "4                           Allen, Mr. William Henry    male  35.0      0   \n",
       "\n",
       "   Parch            Ticket     Fare Cabin Embarked  \n",
       "0      0         A/5 21171   7.2500   NaN        S  \n",
       "1      0          PC 17599  71.2833   C85        C  \n",
       "2      0  STON/O2. 3101282   7.9250   NaN        S  \n",
       "3      0            113803  53.1000  C123        S  \n",
       "4      0            373450   8.0500   NaN        S  "
      ],
      "text/html": [
       "<div>\n",
       "<style scoped>\n",
       "    .dataframe tbody tr th:only-of-type {\n",
       "        vertical-align: middle;\n",
       "    }\n",
       "\n",
       "    .dataframe tbody tr th {\n",
       "        vertical-align: top;\n",
       "    }\n",
       "\n",
       "    .dataframe thead th {\n",
       "        text-align: right;\n",
       "    }\n",
       "</style>\n",
       "<table border=\"1\" class=\"dataframe\">\n",
       "  <thead>\n",
       "    <tr style=\"text-align: right;\">\n",
       "      <th></th>\n",
       "      <th>PassengerId</th>\n",
       "      <th>Survived</th>\n",
       "      <th>Pclass</th>\n",
       "      <th>Name</th>\n",
       "      <th>Sex</th>\n",
       "      <th>Age</th>\n",
       "      <th>SibSp</th>\n",
       "      <th>Parch</th>\n",
       "      <th>Ticket</th>\n",
       "      <th>Fare</th>\n",
       "      <th>Cabin</th>\n",
       "      <th>Embarked</th>\n",
       "    </tr>\n",
       "  </thead>\n",
       "  <tbody>\n",
       "    <tr>\n",
       "      <th>0</th>\n",
       "      <td>1</td>\n",
       "      <td>0</td>\n",
       "      <td>3</td>\n",
       "      <td>Braund, Mr. Owen Harris</td>\n",
       "      <td>male</td>\n",
       "      <td>22.0</td>\n",
       "      <td>1</td>\n",
       "      <td>0</td>\n",
       "      <td>A/5 21171</td>\n",
       "      <td>7.2500</td>\n",
       "      <td>NaN</td>\n",
       "      <td>S</td>\n",
       "    </tr>\n",
       "    <tr>\n",
       "      <th>1</th>\n",
       "      <td>2</td>\n",
       "      <td>1</td>\n",
       "      <td>1</td>\n",
       "      <td>Cumings, Mrs. John Bradley (Florence Briggs Th...</td>\n",
       "      <td>female</td>\n",
       "      <td>38.0</td>\n",
       "      <td>1</td>\n",
       "      <td>0</td>\n",
       "      <td>PC 17599</td>\n",
       "      <td>71.2833</td>\n",
       "      <td>C85</td>\n",
       "      <td>C</td>\n",
       "    </tr>\n",
       "    <tr>\n",
       "      <th>2</th>\n",
       "      <td>3</td>\n",
       "      <td>1</td>\n",
       "      <td>3</td>\n",
       "      <td>Heikkinen, Miss. Laina</td>\n",
       "      <td>female</td>\n",
       "      <td>26.0</td>\n",
       "      <td>0</td>\n",
       "      <td>0</td>\n",
       "      <td>STON/O2. 3101282</td>\n",
       "      <td>7.9250</td>\n",
       "      <td>NaN</td>\n",
       "      <td>S</td>\n",
       "    </tr>\n",
       "    <tr>\n",
       "      <th>3</th>\n",
       "      <td>4</td>\n",
       "      <td>1</td>\n",
       "      <td>1</td>\n",
       "      <td>Futrelle, Mrs. Jacques Heath (Lily May Peel)</td>\n",
       "      <td>female</td>\n",
       "      <td>35.0</td>\n",
       "      <td>1</td>\n",
       "      <td>0</td>\n",
       "      <td>113803</td>\n",
       "      <td>53.1000</td>\n",
       "      <td>C123</td>\n",
       "      <td>S</td>\n",
       "    </tr>\n",
       "    <tr>\n",
       "      <th>4</th>\n",
       "      <td>5</td>\n",
       "      <td>0</td>\n",
       "      <td>3</td>\n",
       "      <td>Allen, Mr. William Henry</td>\n",
       "      <td>male</td>\n",
       "      <td>35.0</td>\n",
       "      <td>0</td>\n",
       "      <td>0</td>\n",
       "      <td>373450</td>\n",
       "      <td>8.0500</td>\n",
       "      <td>NaN</td>\n",
       "      <td>S</td>\n",
       "    </tr>\n",
       "  </tbody>\n",
       "</table>\n",
       "</div>"
      ]
     },
     "execution_count": 3,
     "metadata": {},
     "output_type": "execute_result"
    }
   ],
   "execution_count": 3
  },
  {
   "cell_type": "markdown",
   "id": "7a56c36ba2c8ee59",
   "metadata": {},
   "source": [
    "Значения колонок:"
   ]
  },
  {
   "cell_type": "markdown",
   "id": "2f4da67fa5ba9c1e",
   "metadata": {},
   "source": [
    "1. PassengerId - уникальный идентификатор пассажира.\n",
    "2. Survived - целевой признак (0 - не выжил, 1 - выжил).\n",
    "3. Pclass - класс билета (1, 2 или 3).\n",
    "4. Name - имя пассажира.\n",
    "5. Sex - пол пассажира.\n",
    "6. Age - возраст пассажира.\n",
    "7. SibSp - количество родственников на борту.\n",
    "8. Parch - количество родителей и детей на борту.\n",
    "9. Ticket - номер билета.\n",
    "10. Fare - стоимость билета.\n",
    "11. Cabin - номер каюты.\n",
    "12. Embarked - порт отправления (C, Q, S)."
   ]
  },
  {
   "cell_type": "code",
   "id": "a9ce4342d2f4e50d",
   "metadata": {
    "ExecuteTime": {
     "end_time": "2025-05-12T18:19:06.751399Z",
     "start_time": "2025-05-12T18:19:06.744320Z"
    }
   },
   "source": [
    "df['Survived'].value_counts()"
   ],
   "outputs": [
    {
     "data": {
      "text/plain": [
       "Survived\n",
       "0    549\n",
       "1    342\n",
       "Name: count, dtype: int64"
      ]
     },
     "execution_count": 4,
     "metadata": {},
     "output_type": "execute_result"
    }
   ],
   "execution_count": 4
  },
  {
   "cell_type": "code",
   "id": "bf032235b66609c2",
   "metadata": {
    "ExecuteTime": {
     "end_time": "2025-05-12T18:19:06.808163Z",
     "start_time": "2025-05-12T18:19:06.782302Z"
    }
   },
   "source": [
    "#Описание набора данных\n",
    "df.describe()"
   ],
   "outputs": [
    {
     "data": {
      "text/plain": [
       "       PassengerId    Survived      Pclass         Age       SibSp  \\\n",
       "count   891.000000  891.000000  891.000000  714.000000  891.000000   \n",
       "mean    446.000000    0.383838    2.308642   29.699118    0.523008   \n",
       "std     257.353842    0.486592    0.836071   14.526497    1.102743   \n",
       "min       1.000000    0.000000    1.000000    0.420000    0.000000   \n",
       "25%     223.500000    0.000000    2.000000   20.125000    0.000000   \n",
       "50%     446.000000    0.000000    3.000000   28.000000    0.000000   \n",
       "75%     668.500000    1.000000    3.000000   38.000000    1.000000   \n",
       "max     891.000000    1.000000    3.000000   80.000000    8.000000   \n",
       "\n",
       "            Parch        Fare  \n",
       "count  891.000000  891.000000  \n",
       "mean     0.381594   32.204208  \n",
       "std      0.806057   49.693429  \n",
       "min      0.000000    0.000000  \n",
       "25%      0.000000    7.910400  \n",
       "50%      0.000000   14.454200  \n",
       "75%      0.000000   31.000000  \n",
       "max      6.000000  512.329200  "
      ],
      "text/html": [
       "<div>\n",
       "<style scoped>\n",
       "    .dataframe tbody tr th:only-of-type {\n",
       "        vertical-align: middle;\n",
       "    }\n",
       "\n",
       "    .dataframe tbody tr th {\n",
       "        vertical-align: top;\n",
       "    }\n",
       "\n",
       "    .dataframe thead th {\n",
       "        text-align: right;\n",
       "    }\n",
       "</style>\n",
       "<table border=\"1\" class=\"dataframe\">\n",
       "  <thead>\n",
       "    <tr style=\"text-align: right;\">\n",
       "      <th></th>\n",
       "      <th>PassengerId</th>\n",
       "      <th>Survived</th>\n",
       "      <th>Pclass</th>\n",
       "      <th>Age</th>\n",
       "      <th>SibSp</th>\n",
       "      <th>Parch</th>\n",
       "      <th>Fare</th>\n",
       "    </tr>\n",
       "  </thead>\n",
       "  <tbody>\n",
       "    <tr>\n",
       "      <th>count</th>\n",
       "      <td>891.000000</td>\n",
       "      <td>891.000000</td>\n",
       "      <td>891.000000</td>\n",
       "      <td>714.000000</td>\n",
       "      <td>891.000000</td>\n",
       "      <td>891.000000</td>\n",
       "      <td>891.000000</td>\n",
       "    </tr>\n",
       "    <tr>\n",
       "      <th>mean</th>\n",
       "      <td>446.000000</td>\n",
       "      <td>0.383838</td>\n",
       "      <td>2.308642</td>\n",
       "      <td>29.699118</td>\n",
       "      <td>0.523008</td>\n",
       "      <td>0.381594</td>\n",
       "      <td>32.204208</td>\n",
       "    </tr>\n",
       "    <tr>\n",
       "      <th>std</th>\n",
       "      <td>257.353842</td>\n",
       "      <td>0.486592</td>\n",
       "      <td>0.836071</td>\n",
       "      <td>14.526497</td>\n",
       "      <td>1.102743</td>\n",
       "      <td>0.806057</td>\n",
       "      <td>49.693429</td>\n",
       "    </tr>\n",
       "    <tr>\n",
       "      <th>min</th>\n",
       "      <td>1.000000</td>\n",
       "      <td>0.000000</td>\n",
       "      <td>1.000000</td>\n",
       "      <td>0.420000</td>\n",
       "      <td>0.000000</td>\n",
       "      <td>0.000000</td>\n",
       "      <td>0.000000</td>\n",
       "    </tr>\n",
       "    <tr>\n",
       "      <th>25%</th>\n",
       "      <td>223.500000</td>\n",
       "      <td>0.000000</td>\n",
       "      <td>2.000000</td>\n",
       "      <td>20.125000</td>\n",
       "      <td>0.000000</td>\n",
       "      <td>0.000000</td>\n",
       "      <td>7.910400</td>\n",
       "    </tr>\n",
       "    <tr>\n",
       "      <th>50%</th>\n",
       "      <td>446.000000</td>\n",
       "      <td>0.000000</td>\n",
       "      <td>3.000000</td>\n",
       "      <td>28.000000</td>\n",
       "      <td>0.000000</td>\n",
       "      <td>0.000000</td>\n",
       "      <td>14.454200</td>\n",
       "    </tr>\n",
       "    <tr>\n",
       "      <th>75%</th>\n",
       "      <td>668.500000</td>\n",
       "      <td>1.000000</td>\n",
       "      <td>3.000000</td>\n",
       "      <td>38.000000</td>\n",
       "      <td>1.000000</td>\n",
       "      <td>0.000000</td>\n",
       "      <td>31.000000</td>\n",
       "    </tr>\n",
       "    <tr>\n",
       "      <th>max</th>\n",
       "      <td>891.000000</td>\n",
       "      <td>1.000000</td>\n",
       "      <td>3.000000</td>\n",
       "      <td>80.000000</td>\n",
       "      <td>8.000000</td>\n",
       "      <td>6.000000</td>\n",
       "      <td>512.329200</td>\n",
       "    </tr>\n",
       "  </tbody>\n",
       "</table>\n",
       "</div>"
      ]
     },
     "execution_count": 5,
     "metadata": {},
     "output_type": "execute_result"
    }
   ],
   "execution_count": 5
  },
  {
   "cell_type": "code",
   "id": "81c7288d96e1a7aa",
   "metadata": {
    "ExecuteTime": {
     "end_time": "2025-05-12T18:19:06.842301Z",
     "start_time": "2025-05-12T18:19:06.833651Z"
    }
   },
   "source": [
    "#Количество отсутствующих значений по столбцам\n",
    "df.isnull().sum()"
   ],
   "outputs": [
    {
     "data": {
      "text/plain": [
       "PassengerId      0\n",
       "Survived         0\n",
       "Pclass           0\n",
       "Name             0\n",
       "Sex              0\n",
       "Age            177\n",
       "SibSp            0\n",
       "Parch            0\n",
       "Ticket           0\n",
       "Fare             0\n",
       "Cabin          687\n",
       "Embarked         2\n",
       "dtype: int64"
      ]
     },
     "execution_count": 6,
     "metadata": {},
     "output_type": "execute_result"
    }
   ],
   "execution_count": 6
  },
  {
   "cell_type": "markdown",
   "id": "206df72803643606",
   "metadata": {},
   "source": [
    "Аналитика\n"
   ]
  },
  {
   "cell_type": "markdown",
   "id": "5ba70e7eb725a906",
   "metadata": {},
   "source": [
    "У женского пола более высокий уровень выживаемости по сравнению с мужским полом"
   ]
  },
  {
   "cell_type": "code",
   "id": "cb4cc734c133653",
   "metadata": {
    "ExecuteTime": {
     "end_time": "2025-05-12T18:19:07.181734Z",
     "start_time": "2025-05-12T18:19:06.873611Z"
    }
   },
   "source": [
    "sns.catplot(x=\"Sex\", hue=\"Survived\", kind=\"count\", data=df)\n",
    "plt.title(\"Распределение выживших по полу\")\n",
    "plt.show()"
   ],
   "outputs": [
    {
     "data": {
      "text/plain": [
       "<Figure size 565.361x500 with 1 Axes>"
      ],
      "image/png": "[encoded data removed]"
     },
     "metadata": {},
     "output_type": "display_data"
    }
   ],
   "execution_count": 7
  },
  {
   "cell_type": "markdown",
   "id": "e0ff7e8527bc2c1f",
   "metadata": {},
   "source": [
    "Пассажиры с более дорогими билетами имеют более высокие показатели выживаемости"
   ]
  },
  {
   "cell_type": "code",
   "id": "788fee323b691236",
   "metadata": {
    "ExecuteTime": {
     "end_time": "2025-05-12T18:19:07.486069Z",
     "start_time": "2025-05-12T18:19:07.199678Z"
    }
   },
   "source": [
    "df['Fare_Range'] = pd.qcut(df['Fare'], 4)\n",
    "\n",
    "sns.catplot(x=\"Fare_Range\", hue=\"Survived\", kind=\"count\", data=df)\n",
    "plt.title(\"Распределение выживших по стоимости билета\")\n",
    "plt.show()\n",
    "\n",
    "df = df.drop(columns=['Fare_Range'])"
   ],
   "outputs": [
    {
     "data": {
      "text/plain": [
       "<Figure size 565.361x500 with 1 Axes>"
      ],
      "image/png": "[encoded data removed]"
     },
     "metadata": {},
     "output_type": "display_data"
    }
   ],
   "execution_count": 8
  },
  {
   "cell_type": "markdown",
   "id": "f6e033a257dd670b",
   "metadata": {},
   "source": [
    "Пассажиры с одним, двумя или тремя родственниками имели более высокие показатели выживаемости"
   ]
  },
  {
   "cell_type": "code",
   "id": "522f7a31d3fc1f30",
   "metadata": {
    "ExecuteTime": {
     "end_time": "2025-05-12T18:19:07.839164Z",
     "start_time": "2025-05-12T18:19:07.496043Z"
    }
   },
   "source": [
    "df['Family_Size'] = df['SibSp'] + df['Parch'] + 1\n",
    "\n",
    "sns.catplot(x=\"Family_Size\", hue=\"Survived\", kind=\"count\", data=df)\n",
    "plt.title(\"Распределение выживших по числу родственников\")\n",
    "plt.show()"
   ],
   "outputs": [
    {
     "data": {
      "text/plain": [
       "<Figure size 565.361x500 with 1 Axes>"
      ],
      "image/png": "[encoded data removed]"
     },
     "metadata": {},
     "output_type": "display_data"
    }
   ],
   "execution_count": 9
  },
  {
   "cell_type": "markdown",
   "id": "784664c119c6038b",
   "metadata": {},
   "source": [
    "Дети имели более высокие показатели выживаемости, чем взрослые и пожилые"
   ]
  },
  {
   "cell_type": "code",
   "id": "f5ffafec19254b6f",
   "metadata": {
    "ExecuteTime": {
     "end_time": "2025-05-12T18:19:08.133814Z",
     "start_time": "2025-05-12T18:19:07.873136Z"
    }
   },
   "source": [
    "def age_group(age):\n",
    "    if age < 18:\n",
    "        return 'Child'\n",
    "    elif 18 <= age < 35:\n",
    "        return 'Young'\n",
    "    elif 35 <= age < 60:\n",
    "        return 'Adult'\n",
    "    else:\n",
    "        return 'Elderly'\n",
    "\n",
    "df['Age'] = df['Age'].fillna(df['Age'].median())\n",
    "\n",
    "df['Age_Group'] = df['Age'].apply(age_group)\n",
    "\n",
    "sns.countplot(x=\"Age_Group\", hue=\"Survived\", data=df)\n",
    "plt.title(\"Сравнение распределения выживших по возрастным группам\")\n",
    "plt.show()"
   ],
   "outputs": [
    {
     "data": {
      "text/plain": [
       "<Figure size 640x480 with 1 Axes>"
      ],
      "image/png": "[encoded data removed]"
     },
     "metadata": {},
     "output_type": "display_data"
    }
   ],
   "execution_count": 10
  },
  {
   "cell_type": "markdown",
   "id": "84cad8c73f044182",
   "metadata": {},
   "source": [
    "Пассажиры, севшие в порту C имели более высокие шансы на выживание"
   ]
  },
  {
   "cell_type": "code",
   "id": "fc9076601962c16a",
   "metadata": {
    "ExecuteTime": {
     "end_time": "2025-05-12T18:19:08.448850Z",
     "start_time": "2025-05-12T18:19:08.150313Z"
    }
   },
   "source": [
    "sns.catplot(x=\"Embarked\", hue=\"Survived\", kind=\"count\", data=df)\n",
    "plt.title(\"Распределение выживших по месту посадки\")\n",
    "plt.show()"
   ],
   "outputs": [
    {
     "data": {
      "text/plain": [
       "<Figure size 565.361x500 with 1 Axes>"
      ],
      "image/png": "[encoded data removed]"
     },
     "metadata": {},
     "output_type": "display_data"
    }
   ],
   "execution_count": 11
  },
  {
   "cell_type": "markdown",
   "id": "225d4a19d0251b6e",
   "metadata": {},
   "source": [
    "Feature Engineering"
   ]
  },
  {
   "cell_type": "markdown",
   "id": "fd2664b93ea5e029",
   "metadata": {},
   "source": [
    "Удаляем столбцы PassengerId, Name, Cabin и Ticket, чтобы очистить данные и уменьшить их размер, сохранив только те столбцы, которые важны для анализа и обучения модели"
   ]
  },
  {
   "cell_type": "code",
   "id": "fea5e59ad6f3810c",
   "metadata": {
    "ExecuteTime": {
     "end_time": "2025-05-12T18:19:08.479418Z",
     "start_time": "2025-05-12T18:19:08.473775Z"
    }
   },
   "source": [
    "df = df.drop(columns=['PassengerId', 'Name', 'Ticket', 'Cabin'])"
   ],
   "outputs": [],
   "execution_count": 12
  },
  {
   "cell_type": "markdown",
   "id": "292c2b2b275aea47",
   "metadata": {},
   "source": [
    "Заменим пропущенные значения в столбцах Age и Fare на медийные, для обработки отсутствующих данных, чтобы избежать потери информации из-за удаления строк с пропущенными данными"
   ]
  },
  {
   "cell_type": "code",
   "id": "4d0c7ab8222888f",
   "metadata": {
    "ExecuteTime": {
     "end_time": "2025-05-12T18:19:08.538001Z",
     "start_time": "2025-05-12T18:19:08.531712Z"
    }
   },
   "source": [
    "df['Age'] = df['Age'].fillna(df['Age'].median())\n",
    "df['Fare'] = df['Fare'].round()\n",
    "df['Fare'] = df['Fare'].fillna(df['Fare'].median())"
   ],
   "outputs": [],
   "execution_count": 13
  },
  {
   "cell_type": "markdown",
   "id": "c6da67e5b38ec567",
   "metadata": {},
   "source": [
    "Добавим новые признаки:\n",
    "1. Family_Size - количество родственников\n",
    "2. Is_Alone - признак, что человек один\n",
    "3. Age_Group - признак возрастной группы ('Child', 'Young', 'Adult' и 'Elderly')\n",
    "4. Fare_Category - признак категории цены билета ('Low', 'Medium' и 'High')"
   ]
  },
  {
   "cell_type": "code",
   "id": "af67d776c3b10a06",
   "metadata": {
    "ExecuteTime": {
     "end_time": "2025-05-12T18:19:08.591282Z",
     "start_time": "2025-05-12T18:19:08.582324Z"
    }
   },
   "source": [
    "df['Family_Size'] = df['SibSp'] + df['Parch'] + 1\n",
    "df['Is_Alone'] = (df['Family_Size'] == 1).astype(int)\n",
    "\n",
    "def age_group(age):\n",
    "    if age < 18:\n",
    "        return 'Child'\n",
    "    elif 18 <= age < 35:\n",
    "        return 'Young'\n",
    "    elif 35 <= age < 60:\n",
    "        return 'Adult'\n",
    "    else:\n",
    "        return 'Elderly'\n",
    "\n",
    "df['Age_Group'] = df['Age'].apply(age_group)\n",
    "\n",
    "def fare_category(fare):\n",
    "    if fare < 10:\n",
    "        return 'Low'\n",
    "    elif 10 <= fare < 50:\n",
    "        return 'Medium'\n",
    "    else:\n",
    "        return 'High'\n",
    "\n",
    "df['Fare_Category'] = df['Fare'].apply(fare_category)"
   ],
   "outputs": [],
   "execution_count": 14
  },
  {
   "cell_type": "code",
   "id": "5bfcf5ca1ec7ad1d",
   "metadata": {
    "ExecuteTime": {
     "end_time": "2025-05-12T18:19:08.623918Z",
     "start_time": "2025-05-12T18:19:08.608565Z"
    }
   },
   "source": [
    "df.head(5)"
   ],
   "outputs": [
    {
     "data": {
      "text/plain": [
       "   Survived  Pclass     Sex   Age  SibSp  Parch  Fare Embarked  Family_Size  \\\n",
       "0         0       3    male  22.0      1      0   7.0        S            2   \n",
       "1         1       1  female  38.0      1      0  71.0        C            2   \n",
       "2         1       3  female  26.0      0      0   8.0        S            1   \n",
       "3         1       1  female  35.0      1      0  53.0        S            2   \n",
       "4         0       3    male  35.0      0      0   8.0        S            1   \n",
       "\n",
       "  Age_Group  Is_Alone Fare_Category  \n",
       "0     Young         0           Low  \n",
       "1     Adult         0          High  \n",
       "2     Young         1           Low  \n",
       "3     Adult         0          High  \n",
       "4     Adult         1           Low  "
      ],
      "text/html": [
       "<div>\n",
       "<style scoped>\n",
       "    .dataframe tbody tr th:only-of-type {\n",
       "        vertical-align: middle;\n",
       "    }\n",
       "\n",
       "    .dataframe tbody tr th {\n",
       "        vertical-align: top;\n",
       "    }\n",
       "\n",
       "    .dataframe thead th {\n",
       "        text-align: right;\n",
       "    }\n",
       "</style>\n",
       "<table border=\"1\" class=\"dataframe\">\n",
       "  <thead>\n",
       "    <tr style=\"text-align: right;\">\n",
       "      <th></th>\n",
       "      <th>Survived</th>\n",
       "      <th>Pclass</th>\n",
       "      <th>Sex</th>\n",
       "      <th>Age</th>\n",
       "      <th>SibSp</th>\n",
       "      <th>Parch</th>\n",
       "      <th>Fare</th>\n",
       "      <th>Embarked</th>\n",
       "      <th>Family_Size</th>\n",
       "      <th>Age_Group</th>\n",
       "      <th>Is_Alone</th>\n",
       "      <th>Fare_Category</th>\n",
       "    </tr>\n",
       "  </thead>\n",
       "  <tbody>\n",
       "    <tr>\n",
       "      <th>0</th>\n",
       "      <td>0</td>\n",
       "      <td>3</td>\n",
       "      <td>male</td>\n",
       "      <td>22.0</td>\n",
       "      <td>1</td>\n",
       "      <td>0</td>\n",
       "      <td>7.0</td>\n",
       "      <td>S</td>\n",
       "      <td>2</td>\n",
       "      <td>Young</td>\n",
       "      <td>0</td>\n",
       "      <td>Low</td>\n",
       "    </tr>\n",
       "    <tr>\n",
       "      <th>1</th>\n",
       "      <td>1</td>\n",
       "      <td>1</td>\n",
       "      <td>female</td>\n",
       "      <td>38.0</td>\n",
       "      <td>1</td>\n",
       "      <td>0</td>\n",
       "      <td>71.0</td>\n",
       "      <td>C</td>\n",
       "      <td>2</td>\n",
       "      <td>Adult</td>\n",
       "      <td>0</td>\n",
       "      <td>High</td>\n",
       "    </tr>\n",
       "    <tr>\n",
       "      <th>2</th>\n",
       "      <td>1</td>\n",
       "      <td>3</td>\n",
       "      <td>female</td>\n",
       "      <td>26.0</td>\n",
       "      <td>0</td>\n",
       "      <td>0</td>\n",
       "      <td>8.0</td>\n",
       "      <td>S</td>\n",
       "      <td>1</td>\n",
       "      <td>Young</td>\n",
       "      <td>1</td>\n",
       "      <td>Low</td>\n",
       "    </tr>\n",
       "    <tr>\n",
       "      <th>3</th>\n",
       "      <td>1</td>\n",
       "      <td>1</td>\n",
       "      <td>female</td>\n",
       "      <td>35.0</td>\n",
       "      <td>1</td>\n",
       "      <td>0</td>\n",
       "      <td>53.0</td>\n",
       "      <td>S</td>\n",
       "      <td>2</td>\n",
       "      <td>Adult</td>\n",
       "      <td>0</td>\n",
       "      <td>High</td>\n",
       "    </tr>\n",
       "    <tr>\n",
       "      <th>4</th>\n",
       "      <td>0</td>\n",
       "      <td>3</td>\n",
       "      <td>male</td>\n",
       "      <td>35.0</td>\n",
       "      <td>0</td>\n",
       "      <td>0</td>\n",
       "      <td>8.0</td>\n",
       "      <td>S</td>\n",
       "      <td>1</td>\n",
       "      <td>Adult</td>\n",
       "      <td>1</td>\n",
       "      <td>Low</td>\n",
       "    </tr>\n",
       "  </tbody>\n",
       "</table>\n",
       "</div>"
      ]
     },
     "execution_count": 15,
     "metadata": {},
     "output_type": "execute_result"
    }
   ],
   "execution_count": 15
  },
  {
   "cell_type": "markdown",
   "id": "405c0fb6270c1b28",
   "metadata": {},
   "source": [
    "Модели"
   ]
  },
  {
   "cell_type": "code",
   "id": "57e622ddb1a767b",
   "metadata": {
    "ExecuteTime": {
     "end_time": "2025-05-12T18:25:27.753267Z",
     "start_time": "2025-05-12T18:25:27.716498Z"
    }
   },
   "source": [
    "from sklearn.model_selection import train_test_split, KFold\n",
    "from sklearn.preprocessing import StandardScaler, LabelEncoder\n",
    "from keras.models import Sequential\n",
    "from keras.layers import Dense, Dropout\n",
    "from keras.callbacks import EarlyStopping\n",
    "from sklearn.metrics import confusion_matrix, classification_report, ConfusionMatrixDisplay"
   ],
   "outputs": [
    {
     "ename": "ModuleNotFoundError",
     "evalue": "No module named 'sklearn'",
     "output_type": "error",
     "traceback": [
      "\u001B[31m---------------------------------------------------------------------------\u001B[39m",
      "\u001B[31mModuleNotFoundError\u001B[39m                       Traceback (most recent call last)",
      "\u001B[36mCell\u001B[39m\u001B[36m \u001B[39m\u001B[32mIn[24]\u001B[39m\u001B[32m, line 1\u001B[39m\n\u001B[32m----> \u001B[39m\u001B[32m1\u001B[39m \u001B[38;5;28;01mfrom\u001B[39;00m\u001B[38;5;250m \u001B[39m\u001B[34;01msklearn\u001B[39;00m\u001B[34;01m.\u001B[39;00m\u001B[34;01mmodel_selection\u001B[39;00m\u001B[38;5;250m \u001B[39m\u001B[38;5;28;01mimport\u001B[39;00m train_test_split, KFold\n\u001B[32m      2\u001B[39m \u001B[38;5;28;01mfrom\u001B[39;00m\u001B[38;5;250m \u001B[39m\u001B[34;01msklearn\u001B[39;00m\u001B[34;01m.\u001B[39;00m\u001B[34;01mpreprocessing\u001B[39;00m\u001B[38;5;250m \u001B[39m\u001B[38;5;28;01mimport\u001B[39;00m StandardScaler, LabelEncoder\n\u001B[32m      3\u001B[39m \u001B[38;5;28;01mfrom\u001B[39;00m\u001B[38;5;250m \u001B[39m\u001B[34;01mkeras\u001B[39;00m\u001B[34;01m.\u001B[39;00m\u001B[34;01mmodels\u001B[39;00m\u001B[38;5;250m \u001B[39m\u001B[38;5;28;01mimport\u001B[39;00m Sequential\n",
      "\u001B[31mModuleNotFoundError\u001B[39m: No module named 'sklearn'"
     ]
    }
   ],
   "execution_count": 24
  },
  {
   "cell_type": "code",
   "id": "4845a9eb773c2639",
   "metadata": {
    "ExecuteTime": {
     "end_time": "2025-05-12T18:19:09.455270900Z",
     "start_time": "2025-05-12T18:04:22.719725Z"
    }
   },
   "source": [
    "# Разделяем данные на признаки и целевую переменную\n",
    "X = df.drop(columns=['Survived'], axis=1)\n",
    "y = df['Survived']"
   ],
   "outputs": [],
   "execution_count": 17
  },
  {
   "cell_type": "code",
   "id": "b5c40c8d74244796",
   "metadata": {
    "ExecuteTime": {
     "end_time": "2025-05-12T18:19:09.456267400Z",
     "start_time": "2025-05-12T18:04:43.085206Z"
    }
   },
   "source": [
    "# Обработка категориальных переменных\n",
    "for column in X.select_dtypes(include=['object']).columns:\n",
    "    le = LabelEncoder()\n",
    "    X[column] = le.fit_transform(X[column].astype(str))"
   ],
   "outputs": [
    {
     "ename": "ModuleNotFoundError",
     "evalue": "No module named 'sklearn'",
     "output_type": "error",
     "traceback": [
      "\u001B[31m---------------------------------------------------------------------------\u001B[39m",
      "\u001B[31mModuleNotFoundError\u001B[39m                       Traceback (most recent call last)",
      "\u001B[36mCell\u001B[39m\u001B[36m \u001B[39m\u001B[32mIn[19]\u001B[39m\u001B[32m, line 2\u001B[39m\n\u001B[32m      1\u001B[39m \u001B[38;5;66;03m# Обработка категориальных переменных\u001B[39;00m\n\u001B[32m----> \u001B[39m\u001B[32m2\u001B[39m \u001B[38;5;28;01mfrom\u001B[39;00m\u001B[38;5;250m \u001B[39m\u001B[34;01msklearn\u001B[39;00m\u001B[34;01m.\u001B[39;00m\u001B[34;01mpreprocessing\u001B[39;00m\u001B[38;5;250m \u001B[39m\u001B[38;5;28;01mimport\u001B[39;00m StandardScaler, LabelEncoder\n\u001B[32m      4\u001B[39m \u001B[38;5;28;01mfor\u001B[39;00m column \u001B[38;5;129;01min\u001B[39;00m X.select_dtypes(include=[\u001B[33m'\u001B[39m\u001B[33mobject\u001B[39m\u001B[33m'\u001B[39m]).columns:\n\u001B[32m      5\u001B[39m     le = LabelEncoder()\n",
      "\u001B[31mModuleNotFoundError\u001B[39m: No module named 'sklearn'"
     ]
    }
   ],
   "execution_count": 19
  },
  {
   "cell_type": "code",
   "execution_count": null,
   "id": "2215712ae47a2ae3",
   "metadata": {
    "ExecuteTime": {
     "end_time": "2025-05-12T18:19:09.457263900Z",
     "start_time": "2025-05-12T17:29:29.714436Z"
    }
   },
   "outputs": [],
   "source": [
    "# Стандартизируем данные\n",
    "scaler = StandardScaler()\n",
    "X = scaler.fit_transform(X)"
   ]
  },
  {
   "cell_type": "code",
   "execution_count": null,
   "id": "155b4b4f71593d74",
   "metadata": {
    "ExecuteTime": {
     "end_time": "2025-05-12T18:19:09.481184700Z",
     "start_time": "2025-05-12T17:29:30.147878Z"
    }
   },
   "outputs": [],
   "source": [
    "# Инициализация KFold\n",
    "kf = KFold(n_splits=5, shuffle=True, random_state=42)\n",
    "\n",
    "accuracies = []\n",
    "losses = []\n",
    "val_losses = []\n",
    "\n",
    "all_y_true = []\n",
    "all_y_pred = []"
   ]
  },
  {
   "cell_type": "code",
   "execution_count": null,
   "id": "4c822c968b649e52",
   "metadata": {
    "ExecuteTime": {
     "end_time": "2025-05-12T18:19:09.483177900Z",
     "start_time": "2025-05-12T17:29:30.756717Z"
    }
   },
   "outputs": [],
   "source": [
    "# Кросс-валидация\n",
    "for train_index, test_index in kf.split(X):\n",
    "    X_train, X_test = X[train_index], X[test_index]\n",
    "    y_train, y_test = y.iloc[train_index], y.iloc[test_index]\n",
    "\n",
    "    model = Sequential()\n",
    "    model.add(Dense(128, activation='relu', input_shape=(X_train.shape[1],)))\n",
    "    model.add(Dropout(0.5))\n",
    "    model.add(Dense(64, activation='relu'))\n",
    "    model.add(Dropout(0.5))\n",
    "    model.add(Dense(32, activation='relu'))\n",
    "    model.add(Dense(1, activation='sigmoid'))\n",
    "\n",
    "    model.compile(optimizer='adam', loss='binary_crossentropy', metrics=['accuracy'])\n",
    "\n",
    "    # Используем EarlyStopping для предотвращения переобучения\n",
    "    early_stopping = EarlyStopping(monitor='val_loss', patience=5)\n",
    "\n",
    "    history = model.fit(X_train, y_train, validation_split=0.2, epochs=100, batch_size=32,\n",
    "                        callbacks=[early_stopping], verbose=0)\n",
    "\n",
    "    # Сохраняем значения потерь для текущей эпохи\n",
    "    losses.append(history.history['loss'])\n",
    "    val_losses.append(history.history['val_loss'])\n",
    "\n",
    "    y_pred = model.predict(X_test)\n",
    "    y_pred_classes = (y_pred > 0.5).astype(int)\n",
    "    all_y_true.extend(y_test)\n",
    "    all_y_pred.extend(y_pred_classes)\n",
    "\n",
    "    loss, accuracy = model.evaluate(X_test, y_test, verbose=0)\n",
    "    accuracies.append(accuracy)"
   ]
  },
  {
   "metadata": {},
   "cell_type": "markdown",
   "source": "Выводится средняя точнсть модели, чтобы поннимать насколько хорошо модель предсказывает выживаемость пассажиров. График потерь позволяет оценить как обучалась модель. Строится матрица ошибок для квалификации положительных и отрицательных значений. Выводятся основные метрики, такие как точность и F1, информации о моделе",
   "id": "86205e17e9a8ebca"
  },
  {
   "metadata": {},
   "cell_type": "code",
   "outputs": [],
   "execution_count": null,
   "source": [
    "print(f'Средняя точность модели: {np.mean(accuracies) * 100:.2f}%')\n",
    "\n",
    "# График потерь\n",
    "plt.figure(figsize=(10, 6))\n",
    "for i in range(len(losses)):\n",
    "    plt.plot(losses[i], label=f'Fold {i+1} - Train Loss')\n",
    "    plt.plot(val_losses[i], label=f'Fold {i+1} - Val Loss', linestyle='--')\n",
    "\n",
    "plt.title('Модель потерь с кросс-валидацией')\n",
    "plt.ylabel('Loss')\n",
    "plt.xlabel('Epochs')\n",
    "plt.legend(loc='upper right')\n",
    "plt.show()"
   ],
   "id": "f3f12037ec546144"
  },
  {
   "cell_type": "code",
   "execution_count": null,
   "id": "553ab4f1207fc089",
   "metadata": {
    "ExecuteTime": {
     "end_time": "2025-05-12T18:19:09.503111700Z",
     "start_time": "2025-05-12T17:29:31.627168Z"
    }
   },
   "outputs": [],
   "source": [
    "# Построение матрицы ошибок\n",
    "cm = confusion_matrix(all_y_true, all_y_pred)\n",
    "cmd = ConfusionMatrixDisplay(cm, display_labels=[0, 1])\n",
    "cmd.plot(cmap=plt.cm.Blues)\n",
    "plt.title('Матрица ошибок')\n",
    "plt.show()\n",
    "\n",
    "print(classification_report(all_y_true, all_y_pred))"
   ]
  },
  {
   "metadata": {},
   "cell_type": "markdown",
   "source": "График показывает, как потери изменяются в зависимости от числа эпох. Сравнение потерь на тренировочной и валидационной выборках позволяет оценить производительность модели. Если обе линии (тренировочная и валидационная) снижаются, это свидетельствует о том, что модель обучается и обобщает данные. Если валидационные потери начинают увеличиваться, в то время как тренировочные продолжают снижаться, это может указывать на переобучение модели.",
   "id": "c64532c00eb00ff3"
  },
  {
   "cell_type": "code",
   "execution_count": null,
   "id": "9bc57bc05a67e0f1",
   "metadata": {
    "ExecuteTime": {
     "end_time": "2025-05-12T18:19:09.525037200Z",
     "start_time": "2025-05-12T17:29:32.262600Z"
    }
   },
   "outputs": [],
   "source": [
    "plt.plot(history.history['loss'])\n",
    "plt.plot(history.history['val_loss'])\n",
    "plt.title('График потерь модели')\n",
    "plt.ylabel('loss')\n",
    "plt.xlabel('epoch')\n",
    "plt.legend(['train', 'val'], loc='upper left')\n",
    "plt.show()"
   ]
  },
  {
   "cell_type": "code",
   "execution_count": null,
   "id": "da21f17d39171ee",
   "metadata": {},
   "outputs": [],
   "source": []
  }
 ],
 "metadata": {
  "kernelspec": {
   "display_name": "Python 3 (ipykernel)",
   "language": "python",
   "name": "python3"
  },
  "language_info": {
   "codemirror_mode": {
    "name": "ipython",
    "version": 3
   },
   "file_extension": ".py",
   "mimetype": "text/x-python",
   "name": "python",
   "nbconvert_exporter": "python",
   "pygments_lexer": "ipython3",
   "version": "3.12.0"
  }
 },
 "nbformat": 4,
 "nbformat_minor": 5
}
